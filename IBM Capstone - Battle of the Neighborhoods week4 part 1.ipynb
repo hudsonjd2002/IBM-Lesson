{
    "cells": [
        {
            "cell_type": "markdown",
            "metadata": {
                "collapsed": true
            },
            "source": "***IBM Capstone Week 4 - Introduction/Business Problem***\n\nAn investor in the Miami, Florida area is well aware of the population growth and economic development trends in the area and is exploring the idea of opening a venue that is a combination of a health food store with a fitness center adjacent.  The investor is interested to know which neighborhoods are the most densely populated and might have the most potential for success.  For example, an area such as Coconut Grove appears to have a nice mix of residential and commercial land uses, and the area's population continues to grow with time.    \n\nData to be evaluated will include the Foursquare database to evaluate existing competition throughout the city's neighborhoods.  Foresquare data will be utilized to locate and evaluate ratings of potential competition.  \n\nAdditionally, a list of Miami-area neighborhoods and their approximate GPS coordinates will be utilized from this site:  https://en.wikipedia.org/wiki/List_of_neighborhoods_in_Miami."
        },
        {
            "cell_type": "code",
            "execution_count": null,
            "metadata": {},
            "outputs": [],
            "source": ""
        }
    ],
    "metadata": {
        "kernelspec": {
            "display_name": "Python 3.6",
            "language": "python",
            "name": "python3"
        },
        "language_info": {
            "codemirror_mode": {
                "name": "ipython",
                "version": 3
            },
            "file_extension": ".py",
            "mimetype": "text/x-python",
            "name": "python",
            "nbconvert_exporter": "python",
            "pygments_lexer": "ipython3",
            "version": "3.6.9"
        }
    },
    "nbformat": 4,
    "nbformat_minor": 1
}