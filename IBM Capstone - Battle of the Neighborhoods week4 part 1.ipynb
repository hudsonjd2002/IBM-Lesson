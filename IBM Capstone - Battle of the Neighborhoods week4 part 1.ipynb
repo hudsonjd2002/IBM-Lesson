{
    "cells": [
        {
            "cell_type": "markdown",
            "metadata": {
                "collapsed": true
            },
            "source": "***IBM Capstone Week 4 - Introduction/Business Problem***\n\nAn investor in Lee County, Florida is well aware of the population growth and economic development trends in the area and is exploring the idea of opening a wine and tapas restaurant.  The investor is interested to know which densely populated areas in the county might have the most potential for success.  For example, a growing area such as Gateway appears to have a nice mix of residential, commercial, and light industrial land uses, and the area continues to grow with residential and commercial development.  There is also a new high school that is under construction in the area, leading the investor to believe more growth and development is on the horizon.  \n\nData to be evaluated will include Foursquare restaurant data to evaluate existing competition throughout the county, U.S. Census population data, broken down by Census tract, as well as County single-family home construction permit data.  \n\nForesquare data will be utilized to locate and evaluate ratings of potential competition.  After completing a cursory search of competition in the area, it did not appear many restaurants were of the same theme or offered the same dishes as what would be expected of a tapas restaurant.  This will be verified later in the evaluation.\n\nU.S. Census data will be evaluated in terms of population density and growth over the past few years.  Areas of lower residential density will be given lower priority, and areas of higher density will be given higher priority.\n\nLee County single-family home construction permit data will be evaluated as an indicator to determine where is the most significant residential growth in the county that can potentially provide patrons to the restaurant.  This is a common metric used by development site selectors.\n\n*Note: This product uses the Census Bureau Data API but is not endorsed or certified by the Census Bureau.*"
        },
        {
            "cell_type": "code",
            "execution_count": null,
            "metadata": {},
            "outputs": [],
            "source": ""
        }
    ],
    "metadata": {
        "kernelspec": {
            "display_name": "Python 3.6",
            "language": "python",
            "name": "python3"
        },
        "language_info": {
            "codemirror_mode": {
                "name": "ipython",
                "version": 3
            },
            "file_extension": ".py",
            "mimetype": "text/x-python",
            "name": "python",
            "nbconvert_exporter": "python",
            "pygments_lexer": "ipython3",
            "version": "3.6.9"
        }
    },
    "nbformat": 4,
    "nbformat_minor": 1
}